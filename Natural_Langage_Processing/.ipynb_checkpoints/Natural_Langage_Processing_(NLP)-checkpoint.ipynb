{
 "cells": [
  {
   "cell_type": "markdown",
   "metadata": {},
   "source": [
    "# 1) Text Preprocessing"
   ]
  },
  {
   "cell_type": "raw",
   "metadata": {},
   "source": [
    ". Noise removal — stripping text of formatting (e.g., HTML tags).\n",
    "\n",
    ". Tokenization — breaking text into individual words.\n",
    "\n",
    ". Normalization — cleaning text data in any other way:\n",
    "\n",
    "    - Stemming is a blunt axe to chop off word prefixes and suffixes. \n",
    "    “booing” and “booed” become “boo”, but  “sing” may become “s” \n",
    "    and “sung” would remain “sung.”\n",
    "    - Lemmatization is a scalpel to bring words down to their root forms. \n",
    "    For example, NLTK’s savvy lemmatizer knows “am” and “are” are related to “be.”\n",
    "    - Other common tasks include lowercasing, stopwords removal, spelling correction, etc.\n"
   ]
  },
  {
   "cell_type": "code",
   "execution_count": 5,
   "metadata": {},
   "outputs": [
    {
     "ename": "ModuleNotFoundError",
     "evalue": "No module named 'part_of_speech'",
     "output_type": "error",
     "traceback": [
      "\u001b[0;31m---------------------------------------------------------------------------\u001b[0m",
      "\u001b[0;31mModuleNotFoundError\u001b[0m                       Traceback (most recent call last)",
      "\u001b[0;32m<ipython-input-5-9ae394df3b6f>\u001b[0m in \u001b[0;36m<module>\u001b[0;34m()\u001b[0m\n\u001b[1;32m      7\u001b[0m \u001b[0;32mfrom\u001b[0m \u001b[0mnltk\u001b[0m\u001b[0;34m.\u001b[0m\u001b[0mstem\u001b[0m \u001b[0;32mimport\u001b[0m \u001b[0mWordNetLemmatizer\u001b[0m\u001b[0;34m\u001b[0m\u001b[0m\n\u001b[1;32m      8\u001b[0m \u001b[0;31m# grabbing a part of speech function:\u001b[0m\u001b[0;34m\u001b[0m\u001b[0;34m\u001b[0m\u001b[0m\n\u001b[0;32m----> 9\u001b[0;31m \u001b[0;32mfrom\u001b[0m \u001b[0mpart_of_speech\u001b[0m \u001b[0;32mimport\u001b[0m \u001b[0mget_part_of_speech\u001b[0m\u001b[0;34m\u001b[0m\u001b[0m\n\u001b[0m\u001b[1;32m     10\u001b[0m \u001b[0;34m\u001b[0m\u001b[0m\n\u001b[1;32m     11\u001b[0m text = \"\"\"So many squids are jumping out of suitcases these days that you can barely go anywhere \n",
      "\u001b[0;31mModuleNotFoundError\u001b[0m: No module named 'part_of_speech'"
     ]
    }
   ],
   "source": [
    "# regex for removing punctuation!\n",
    "import re\n",
    "# nltk preprocessing magic\n",
    "import nltk\n",
    "from nltk.tokenize import word_tokenize\n",
    "from nltk.stem import PorterStemmer\n",
    "from nltk.stem import WordNetLemmatizer\n",
    "# grabbing a part of speech function:\n",
    "from part_of_speech import get_part_of_speech\n",
    "\n",
    "text = \"\"\"So many squids are jumping out of suitcases these days that you can barely \n",
    "go anywhere without seeing one burst forth from a tightly packed valise. \n",
    "I went to the dentist the other day, and sure enough I saw an angry one jump out of \n",
    "my dentist's bag within minutes of arriving. She hardly even noticed.\"\"\"\n",
    "\n",
    "cleaned = re.sub('\\W+', ' ', text)\n",
    "print(\"cleaned \\n\", cleaned)\n",
    "# Tokenization\n",
    "tokenized = word_tokenize(cleaned)\n",
    "# Stemming\n",
    "stemmer = PorterStemmer()\n",
    "stemmed = [stemmer.stem(token) for token in tokenized]\n",
    "# Lemmatization (by default \"lemmatize()\"\" treats every word as a noun)\n",
    "lemmatizer = WordNetLemmatizer()\n",
    "lemmatized_lessgood = [lemmatizer.lemmatize(token) for token in tokenized]\n",
    "lemmatized = [lemmatizer.lemmatize(token, get_part_of_speech(token)) for token in tokenized]\n",
    "\n",
    "print(\"\\n Stemmed text:\")\n",
    "print(stemmed)\n",
    "print(\"\\nlemmatized_lessgood text:\")\n",
    "print(lemmatized_lessgood)\n",
    "print(\"\\nBetter Lemmatized text:\")\n",
    "print(lemmatized)"
   ]
  },
  {
   "cell_type": "code",
   "execution_count": null,
   "metadata": {},
   "outputs": [],
   "source": []
  }
 ],
 "metadata": {
  "kernelspec": {
   "display_name": "Python 3",
   "language": "python",
   "name": "python3"
  },
  "language_info": {
   "codemirror_mode": {
    "name": "ipython",
    "version": 3
   },
   "file_extension": ".py",
   "mimetype": "text/x-python",
   "name": "python",
   "nbconvert_exporter": "python",
   "pygments_lexer": "ipython3",
   "version": "3.6.3"
  }
 },
 "nbformat": 4,
 "nbformat_minor": 2
}
