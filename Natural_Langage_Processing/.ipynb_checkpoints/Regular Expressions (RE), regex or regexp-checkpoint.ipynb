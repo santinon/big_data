{
 "cells": [
  {
   "cell_type": "markdown",
   "metadata": {},
   "source": [
    "# Regular Expressions \"*cheat sheet*\" for understanding\n",
    "    \n",
    "[Cool internet site to try out regular expressions](https://regex101.com/)\n",
    "\n",
    "    have a variety of use cases including:\n",
    "\n",
    "    - validating user input in HTML forms\n",
    "    - verifying and parsing text in files, code and applications\n",
    "    - examining test results\n",
    "    - finding keywords in emails and web pages\n",
    "\n",
    "##### Regular expressions operate by moving character by character, from left to right, through a piece of text. When the regular expression finds a character that matches the first piece of the expression, it looks to find a continuous sequence of matching characters.\n",
    "\n",
    "\n",
    "MENU: \n",
    "- 1 Literals\n",
    "- 2 Alternation OR\n",
    "- 3 Character Sets\n",
    "- 4 Wild for Wildcards\n",
    "- 5 Ranges\n",
    "- 6 Shorthand Character Classes\n",
    "- 7 Grouping\n",
    "- 8 Quantifiers - Fixed\n",
    "- 9 Anchors\n",
    "- 10 Review\n"
   ]
  },
  {
   "cell_type": "markdown",
   "metadata": {},
   "source": [
    "# 1) Literals\n",
    "\n",
    "* The regex \"a\", for example, will match the text \"a\",   \n",
    "  and the regex \"bananas\" will match the text \"bananas\".\n",
    "  \n",
    "  \n",
    "* The regex \"3\" will match the \"3\" in the piece of text \"34\",   \n",
    "  and the regex \"5 gibbons\" will completely match the text \"5 gibbons\"!"
   ]
  },
  {
   "cell_type": "markdown",
   "metadata": {},
   "source": [
    "# 2) Alternation OR\n",
    "\n",
    "* '|' symbol = OR   \n",
    "  Allows to match either the characters preceding the | OR the characters after the |.  \n",
    " >ex:  The regex \"baboons|gorillas\"   \n",
    " will match  \n",
    " \"**baboons**\" in the text \"I love baboons\" and  \"**gorillas**\" in the text \"I love gorillas\".  \n",
    " \n",
    " >ex: \"cat|dog\"  \n",
    " will match  \n",
    " \"**cat**\" and \"**dog**\""
   ]
  },
  {
   "cell_type": "markdown",
   "metadata": {},
   "source": [
    "# 3) Character Sets\n",
    "\n",
    "* Denoted by a pair of brackets \"**[ ]**\" :  \n",
    "  Let us match one character from a series of characters, allowing for matches with incorrect or different spellings\n",
    "  \n",
    "> ex : The regex _con[sc]en[sc]us_  \n",
    "will match:  \n",
    "consensus (correct), _concensus_, _consencus_, and _concencus_ (three incorrect spellings)\n",
    "\n",
    "> ex: regex \"_[cat]_\"  \n",
    "will match the characters:  \n",
    "\"*c*\", \"*a*\", or \"*t*\", but NOT the text \"_cat_\". \n",
    "\n",
    "> ex: regex \"**[chr]** at\"  \n",
    "will match:   \n",
    "\"cat\", \"hat\", \"rat\" \n",
    "     \n",
    "\n",
    "* Carrot \"**^**\" symbol: called *negated character sets*  \n",
    "  Placed at the front of a character set, the \"^\" negates the set, matching any character that is not stated. \n",
    ">ex: the regex \"[^cat]\"  \n",
    "will match:  \n",
    "any character that is not \"c\", \"a\", or \"t\", and would completely match each character \"d\", \"o\" or \"g\""
   ]
  },
  {
   "cell_type": "markdown",
   "metadata": {},
   "source": [
    "# 4) Wild for Wildcards\n",
    "\n",
    "They are useful when we do not care about the specific value of a character, but only that a character exists!  \n",
    "Wildcards will match any single character (letter, number, symbol or whitespace) in a piece of text\n",
    "\n",
    "* **Wildcards** = \"**.**\" (so points actuyally)\n",
    "\n",
    "> ex : Let’s say we want to match any 9-character piece of text.   \n",
    "The regex \"**.........**\" (len = 9)  will completely match:  \n",
    "\"**orangutan**\" and \"**marsupial**\" (both len = 9).    \n",
    "\n",
    "> ex:  \n",
    "Regex \"I ate  . bananas\"    \n",
    "will completely match both:  \n",
    "\"I ate  **3** bananas\" and \"I ate **8** bananas\"!\n",
    "\n",
    "* **Escape** wildcard by using \" **\\** \"\n",
    ">ex: \" .... **\\** . \"  \n",
    "will match:  \n",
    "\"*bear*\", \"*lion*\", \"*orca*\"  \n",
    "but not : \n",
    "\"*mous*e\", \"*koal*a\", \"*snai*l\" (the last character escapes)"
   ]
  },
  {
   "cell_type": "markdown",
   "metadata": {},
   "source": [
    "# 5) Ranges"
   ]
  },
  {
   "cell_type": "markdown",
   "metadata": {},
   "source": [
    "Allow us to specify a range of characters in which we can make a match without having to type out each individual character\n",
    "* **-** character allows us to specify that we are interested in matching a range of characters, we can match any:\n",
    "   * single capital letter with the regex **[A-Z]**, \n",
    "   * lowercase letter with the regex **[a-z]**, \n",
    "   * any digit with the regex **[0-9]**\n",
    "   * capital or lowercase alphabetical character, we can use the regex **[A-Za-z]**  \n",
    "   \n",
    "   \n",
    "* with **[ ]** we only match one character.\n",
    "\n",
    "> ex: **[a-c]**  \n",
    "will match to:  \n",
    "\"**a**\", \"**b**\" or \"**c**\"\n",
    "\n",
    "> ex: The regex \"I adopted **[2-9] [b-h]** ats\"  \n",
    "will match the text:  \n",
    "\"**I adopted 4 bats**\" as well as \"**I adopted 8 cats**\" and even \"**I adopted 5 hats**\"\n",
    "\n",
    "> ex: **[c-k][l-u][b-k]**  \n",
    "will match to  text:  \n",
    "**cub**, **dog**, **elk**"
   ]
  },
  {
   "cell_type": "markdown",
   "metadata": {},
   "source": [
    "# 6) Shorthand Character Classes"
   ]
  },
  {
   "cell_type": "markdown",
   "metadata": {},
   "source": [
    "While character ranges are extremely useful, they can be cumbersome to write out every single time you want to match common ranges such as those that designate alphabetical characters or digits.  \n",
    "**->** there are shorthand character classes that represent common ranges, and they make writing regular expressions much simpler.  \n",
    "These shorthand classes include:\n",
    "\n",
    "* **shorthand character classes**\n",
    "   * **\\w** = **“word character”** class represents : regex range **[A-Za-z0-9_]**,    \n",
    "       it matches a single uppercase character, lowercase character, digit or underscore\n",
    "   * **\\d** =  **“digit character”** class represents: regex range **[0-9]**,  \n",
    "       it matches a single digit character\n",
    "   * **\\s** = **“whitespace character”** class represents : regex range **[ \\t\\r\\n\\f\\v]**,  \n",
    "       it matches a single space, tab, carriage return, line break, form feed, or vertical tab*\n",
    "       \n",
    "> ex: the regex **\\d\\s\\w\\w\\w\\w\\w\\w\\w**  \n",
    "matches:  \n",
    "a digit character, followed by a whitespace character,  followed by 7 word characters = matches the text: \"**3 monkeys**\"\n",
    "\n",
    "* **Negated Shorthand Character** classes.  \n",
    "    These shorthands will match any character that is NOT in the regular shorthand classes.\n",
    "    * **\\W** = **“non-word character”** class represents: regex range **[^A-Za-z0-9_]**,   \n",
    "      it matches any character that is not included in the range represented by \"\\w\"\n",
    "    * **\\D** = **“non-digit character”** class represents the regex range **[^0-9]**,   \n",
    "      it matches any character that is not included in the range represented by \"\\d\"\n",
    "    * **\\S** = **“non-whitespace character”** class represents the regex range **[^ \\t\\r\\n\\f\\v]**,    \n",
    "      it matches any character that is not included in the range represented by \"\\s\"\n"
   ]
  },
  {
   "cell_type": "markdown",
   "metadata": {},
   "source": [
    "# 7) Grouping"
   ]
  },
  {
   "cell_type": "markdown",
   "metadata": {},
   "source": [
    "Grouping, denoted with the open parenthesis and the closing parenthesis **( )**, lets us group parts of a regular expression together, and allows us to limit alternation to part of the regex.  \n",
    "For example: **I love baboons|gorillas**,  would completely match the string **I love baboons**, but would not match **I love gorillas**, and would instead match **gorillas**.  \n",
    "**=> so we need grouping:**\n",
    "\n",
    "> ex: \"**I love (baboons|gorillas)**\"   \n",
    "will match the text:  \n",
    "\"**I love**\" + either \"**baboons**\" OR \"**gorillas**\"\n",
    "\n",
    "> ex: \"**(puppies|kitty cats) are my favorite!**\"  \n",
    "will match the text:    \n",
    "\"**puppies are my favorite!**\" and \"**kitty cats are my favorite!**\""
   ]
  },
  {
   "cell_type": "markdown",
   "metadata": {},
   "source": [
    "# 8) Quantifiers - Fixed"
   ]
  },
  {
   "cell_type": "markdown",
   "metadata": {},
   "source": [
    "Denote the quantity of characters we want to match\n",
    "*  **Fixed quantifiers** \"**{ }**\": indicate the exact *quantity of a character* we wish to match, or allow us to provide a *quantity range* to match on\n",
    "    * **\\w{3}** will match exactly 3 word characters\n",
    "    * **\\w{4,7}** will match at minimum 4 word characters and at maximum 7 word characters\n",
    "    \n",
    "Note : quantifiers are considered to be greedy: they will match the greatest quantity of characters they possibly can. For example, the regex **mo{2,4}** will match the text **moooo** in the string \"**moooo**\", and not return a match of **moo** or **mooo**.\n",
    ">ex : regex **roa{3}r**  \n",
    "will match   \n",
    "**roaaar** (the characters **ro** + **followed by 3 as** + **r**)  \n",
    "\n",
    ">ex : regex **roa{3,7}r**  \n",
    "will match:  \n",
    "the strings **roaaar**, **roaaaaar** and **roaaaaaaar** (the characters **ro** + **at least 3 as** + **at most 7 as** + **r**)\n",
    "\n",
    ">ex: **squea{3,5}k**  \n",
    "will match:    \n",
    "*squeaaak*, *squeaaaak*, *squeaaaaak*\n",
    "\n",
    "\n",
    "* **Optional quantifiers**: use **\"?\"**   \n",
    "Allow us to indicate a character in a regex is optional, or can appear either 0 times or 1 time.\n",
    "\n",
    ">ex: the regex \"**humou?r**\"   \n",
    "matches the characters:  \n",
    "*humo* +  either 0 occurrences or 1 occurrence of the letter u + r  \n",
    "(only applies to the character directly before it).\n",
    "\n",
    ">ex: The regex **The monkey ate a (rotten)? banana**   \n",
    "will completely match:  \n",
    "both \"*The monkey ate a rotten banana*\" and \"*The monkey ate a banana*\"\n",
    "\n",
    ">ex: in order to match a question mark *?* in a piece of text we need to use the escape character in our regex.   \n",
    "The regex:\n",
    "**Aren't owl monkeys beautiful\\?**  \n",
    "will completely match:    \n",
    "the text:  _Aren't owl monkeys beautiful?_ (_?_ is included)\n",
    "\n",
    ">ex: **ho{2,}t**:  \n",
    "_hoot_, _hoooooot_, _hooooooooooot_\n",
    "\n",
    "\n",
    "\n",
    "\n",
    "* **Kleene star** : \"*****\"   \n",
    "  matches the preceding character 0 or more times.   \n",
    "  This means that the character _doesn’t need_ to appear, can appear once, or can appear several times.\n",
    "\n",
    ">ex: The regex **meo*w**    \n",
    "will match the characters: *me* + followed by 0 or more _os_ + _w_.  \n",
    "thus match the text:  *mew*, *meow*, *meooow*, and *meoooooooooooow*.\n",
    "\n",
    "\n",
    "* **Kleene plus**  **+**:   \n",
    "    which matches the preceding character 1 or more times\n",
    "\n",
    ">ex: The regex **meo+w**   \n",
    "will match the characters _me_ + followed by 1 or more _os_ + _w_.   \n",
    "Thus the regex will match  \n",
    "_meow_, _meooow_, and _meoooooooooooow_, but NOT match _mew_\n",
    "\n",
    ">ex: Like all the other metacharacters, in order to match the symbols: \"* \" and  \"+ \"  \n",
    "you need to use the **escape character** \"**\\\\**\" in your regex.   \n",
    "The regex:  \"_My cat is a \\\\*_\" will completely match the text \"_My cat is a *_\"."
   ]
  },
  {
   "cell_type": "markdown",
   "metadata": {},
   "source": [
    "# 9) Anchors"
   ]
  },
  {
   "cell_type": "markdown",
   "metadata": {},
   "source": [
    "They are delimiters which will be in the beginning ( ^ ) and at the end of a sentence or text ( \\\\ ).   \n",
    "The pattern : ^ bla bla bla \\\n",
    "\n",
    "\n",
    "ex : **\"\\^Monkeys: my mortal enemy\\\\$\"**  (with no space between the special anchors signs)\n",
    "\n",
    "will completely match the text:  \n",
    "_Monkeys: my mortal enemy_  \n",
    "but NOT match:  _Spider Monkeys: my mortal enemy in the wild_ or _Squirrel Monkeys: my mortal enemy in the wild_\n",
    "\n",
    "\n",
    "( WHITHOUT Anchors :   \n",
    "**Monkeys: my mortal enemy**   \n",
    "will match the text in both:  \n",
    "_Spider Monkeys: my mortal enemy in the wild_ and _Squirrel Monkeys: my mortal enemy in the wild_)"
   ]
  },
  {
   "cell_type": "markdown",
   "metadata": {},
   "source": [
    "# Review"
   ]
  },
  {
   "cell_type": "markdown",
   "metadata": {},
   "source": [
    "\n",
    "* Regular expressions are special sequences of characters that describe a pattern of text that is to be matched\n",
    "\n",
    "\n",
    "* We can use literals to match the exact characters that we desire\n",
    "\n",
    "\n",
    "* Alternation, using the pipe symbol |, allows us to match the text preceding or following the |\n",
    "\n",
    "\n",
    "* Character sets, denoted by a pair of brackets [], let us match one character from a series of characters\n",
    "\n",
    "\n",
    "* Wildcards, represented by the period or dot ., will match any single character (letter, number, symbol or whitespace)\n",
    "\n",
    "\n",
    "* Ranges allow us to specify a range of characters in which we can make a match\n",
    "\n",
    "\n",
    "* Shorthand character classes like \\w, \\d and \\s represent the ranges representing word characters, digit characters, and whitespace characters, respectively\n",
    "\n",
    "\n",
    "* Groupings, denoted with parentheses (), group parts of a regular expression together, and allows us to limit alternation to part of a regex\n",
    "\n",
    "\n",
    "* Fixed quantifiers, represented with curly braces {}, let us indicate the exact quantity or a range of quantity of a character we wish to match\n",
    "\n",
    "\n",
    "* Optional quantifiers, indicated by the question mark ?, allow us to indicate a character in a regex is optional, or can appear either 0 times or 1 time\n",
    "\n",
    "\n",
    "* The Kleene star, denoted with the asterisk *, is a quantifier that matches the preceding character 0 or more times\n",
    "\n",
    "\n",
    "* The Kleene plus, denoted by the plus +, matches the preceding character 1 or more times\n",
    "\n",
    "\n",
    "* The anchor symbols hat ^ and dollar sign $ are used to match text at the start and end of a string, respectively"
   ]
  }
 ],
 "metadata": {
  "kernelspec": {
   "display_name": "Python 3",
   "language": "python",
   "name": "python3"
  },
  "language_info": {
   "codemirror_mode": {
    "name": "ipython",
    "version": 3
   },
   "file_extension": ".py",
   "mimetype": "text/x-python",
   "name": "python",
   "nbconvert_exporter": "python",
   "pygments_lexer": "ipython3",
   "version": "3.6.3"
  }
 },
 "nbformat": 4,
 "nbformat_minor": 2
}
