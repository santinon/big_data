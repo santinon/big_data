{
 "cells": [
  {
   "cell_type": "markdown",
   "metadata": {},
   "source": [
    "Parsing is a stage of NLP concerned with **breaking / segmenting** up text **based on syntax**\n",
    "\n",
    "By using Python’s _regular expression_ modulere and the _Natural Language Toolkit_, known as _NLTK_, you can find:    \n",
    "* keywords of interest\n",
    "* discover where and how often they are used \n",
    "* discern the parts-of-speech patterns in which they appear to understand the sometimes hidden meaning in a piece of writing\n",
    "\n",
    "> ex:  highlight the biases of its author or uncover additional insights that even a deep, rigorous reading of the text might not reveal"
   ]
  },
  {
   "cell_type": "markdown",
   "metadata": {},
   "source": [
    "# 1) Compiling and Matching\n",
    "\n",
    "* **.compile( )** :  \n",
    "This method takes a regular expression pattern as an argument and compiles the pattern into a regular expression object, which you can later use to find matching text\n",
    "\n",
    "* **.match( )** :   \n",
    "method that takes a string of text as an argument and looks for a single match to the regular expression that starts at the beginning of the string\n",
    "    * finds a match that starts at the beginning of the string, it will return a match object\n",
    "    * If there is no match, .match() will return None\n",
    "\n"
   ]
  },
  {
   "cell_type": "code",
   "execution_count": 9,
   "metadata": {},
   "outputs": [
    {
     "name": "stdout",
     "output_type": "stream",
     "text": [
      "regular_expression:  re.compile('[A-Za-z]{7}')\n",
      "result_1:  <_sre.SRE_Match object; span=(0, 7), match='Dorothy'>\n",
      "match_1:  Dorothy\n",
      "result_2:  None\n",
      "result_2:  None\n"
     ]
    }
   ],
   "source": [
    "import re\n",
    "\n",
    "# characters are defined\n",
    "character_1 = \"Dorothy\"\n",
    "character_2 = \"Henry\"\n",
    "\n",
    "# regular expression object that match any 7 character string later usable to find matching text\n",
    "regular_expression = re.compile(\"[A-Za-z]{7}\") #  recognizes upper or lower case characters\n",
    "print(\"regular_expression: \", regular_expression)\n",
    "\n",
    "# check for a match to character_1 here\n",
    "# (check if regex matches string stored in character_1)\n",
    "result_1 = regular_expression.match(character_1)\n",
    "print(\"result_1: \", result_1)\n",
    "\n",
    "\n",
    "# store and print the matched text here \n",
    "match_1 = result_1.group(0)\n",
    "print(\"match_1: \", match_1)\n",
    "\n",
    "# compile a regular expression to match a 7 character string of word characters\n",
    "# and check for a match to character_2 here\n",
    "regular_expression = re.compile(\"[A-Za-z]{7}\") # search for something len = 7\n",
    "result_2 = regular_expression.match(character_2) # but is len = 5\n",
    "print(\"result_2: \", result_2) # so nothing is found => None\n",
    "# 2 last lines above can be written in one line also\n",
    "result_2 = re.match(\"[A-Za-z]{7}\", character_2)\n",
    "print(\"result_2: \", result_2)"
   ]
  },
  {
   "cell_type": "markdown",
   "metadata": {},
   "source": [
    "# 2) Searching and Finding"
   ]
  },
  {
   "cell_type": "markdown",
   "metadata": {},
   "source": [
    "* **.search( )** :   \n",
    "Will look left to right through an entire piece of text and return a match object for the first match to the regular expression given.   \n",
    "If no match is found, _.search()_ will return None (unlike **.match( )** which will only find matches at the start of a string).\n",
    ">ex: **result = re.search(\"\\w{8}\",\"Are you a Munchkin?\")** search for a sequence of 8 word characters in the string \"Are you a Munchkin?\" (that will be \"Munchkin\")\n",
    "\n",
    "* **.findall( )** :  \n",
    "Finds all the occurrences of a word or keyword in a piece of text.  \n",
    "Will return a list of all non-overlapping matches of the regular expression in the string   \n",
    "(can be useful to find all the occurrences of a word or keyword in a piece of text to determine a frequency count).\n",
    ">ex:   \n",
    ". text  = *\"Everything is green here, while in the country of the Munchkins blue was the favorite color. But the people do not seem to be as friendly as the Munchkins, and I'm afraid we shall be unable to find a place to pass the night.\"*   \n",
    ". list_of_matches = re.findall(\"\\w{8}\",text)  \n",
    ". returns the list:  *['Everythi', 'Munchkin', 'favorite', 'friendly', 'Munchkin']*"
   ]
  },
  {
   "cell_type": "code",
   "execution_count": 13,
   "metadata": {},
   "outputs": [
    {
     "name": "stdout",
     "output_type": "stream",
     "text": [
      "found_wizard:  <_sre.SRE_Match object; span=(14, 20), match='wizard'>\n",
      "\n",
      " all_lions_list:  ['lion', 'lion', 'lion', 'lion', 'lion', 'lion', 'lion', 'lion', 'lion', 'lion', 'lion', 'lion', 'lion', 'lion', 'lion', 'lion', 'lion', 'lion', 'lion', 'lion', 'lion', 'lion', 'lion', 'lion', 'lion', 'lion', 'lion', 'lion', 'lion', 'lion', 'lion', 'lion', 'lion', 'lion', 'lion', 'lion', 'lion', 'lion', 'lion', 'lion', 'lion', 'lion', 'lion', 'lion', 'lion', 'lion', 'lion', 'lion', 'lion', 'lion', 'lion', 'lion', 'lion', 'lion', 'lion', 'lion', 'lion', 'lion', 'lion', 'lion', 'lion', 'lion', 'lion', 'lion', 'lion', 'lion', 'lion', 'lion', 'lion', 'lion', 'lion', 'lion', 'lion', 'lion', 'lion', 'lion', 'lion', 'lion', 'lion', 'lion', 'lion', 'lion', 'lion', 'lion', 'lion', 'lion', 'lion', 'lion', 'lion', 'lion', 'lion', 'lion', 'lion', 'lion', 'lion', 'lion', 'lion', 'lion', 'lion', 'lion', 'lion', 'lion', 'lion', 'lion', 'lion', 'lion', 'lion', 'lion', 'lion', 'lion', 'lion', 'lion', 'lion', 'lion', 'lion', 'lion', 'lion', 'lion', 'lion', 'lion', 'lion', 'lion', 'lion', 'lion', 'lion', 'lion', 'lion', 'lion', 'lion', 'lion', 'lion', 'lion', 'lion', 'lion', 'lion', 'lion', 'lion', 'lion', 'lion', 'lion', 'lion', 'lion', 'lion', 'lion', 'lion', 'lion', 'lion', 'lion', 'lion', 'lion', 'lion', 'lion', 'lion', 'lion', 'lion', 'lion', 'lion', 'lion', 'lion', 'lion', 'lion', 'lion', 'lion', 'lion', 'lion', 'lion', 'lion', 'lion', 'lion', 'lion', 'lion', 'lion', 'lion', 'lion', 'lion', 'lion', 'lion', 'lion', 'lion', 'lion', 'lion', 'lion', 'lion']\n",
      "\n",
      " number_lions:  183\n"
     ]
    }
   ],
   "source": [
    "import re\n",
    "\n",
    "# import L. Frank Baum's The Wonderful Wizard of Oz\n",
    "oz_text = open(\"the_wizard_of_oz_text.txt\",encoding='utf-8').read().lower()\n",
    "\n",
    "# search oz_text for an occurrence of 'wizard' here\n",
    "found_wizard = re.search(\"wizard\",oz_text)\n",
    "print(\"found_wizard: \", found_wizard)\n",
    "\n",
    "# find all the occurrences of 'lion' in oz_text here\n",
    "all_lions = re.findall(\"lion\", oz_text)\n",
    "print(\"\\n all_lions_list: \", all_lions)\n",
    "\n",
    "# store and print the length of all_lions here\n",
    "number_lions =  len(all_lions)\n",
    "print(\"\\n number_lions: \", number_lions)"
   ]
  },
  {
   "cell_type": "markdown",
   "metadata": {},
   "source": [
    "# 3) Part-of-Speech Tagging"
   ]
  },
  {
   "cell_type": "markdown",
   "metadata": {},
   "source": [
    ">ex:  \n",
    "\"Wow! Ramona and her class are happily studying the new textbook she has on NLP.\"\n",
    "\n",
    "\n",
    "* **Noun**: the name of a person (Ramona,class), place, thing (textbook), or idea (NLP)\n",
    "\n",
    "\n",
    "* **Pronoun**: a word used in place of a noun (her,she)\n",
    "\n",
    "\n",
    "* **Determiner**: a word that introduces, or “determines”, a noun (the)\n",
    "\n",
    "\n",
    "* **Verb**: expresses action (studying) or being (are,has)\n",
    "\n",
    "\n",
    "* **Adjective**: modifies or describes a noun or pronoun (new)\n",
    "\n",
    "\n",
    "* **Adverb**: modifies or describes a verb, an adjective, or another adverb (happily)\n",
    "\n",
    "\n",
    "* **Preposition**: a word placed before a noun or pronoun to form a phrase modifying another word in the sentence (on)\n",
    "\n",
    "\n",
    "* **Conjunction**: a word that joins words, phrases, or clauses (and)\n",
    "\n",
    "\n",
    "* **Interjection**: a word used to express emotion (Wow) \n",
    "\n",
    "\n",
    "* **pos_tag()** function:   \n",
    "Automates the part-of-speech tagging process.  \n",
    "The function takes one argument, a list of words in the order they appear in a sentence, and returns a list of tuples, where the first entry in the tuple is a word and the second is the part-of-speech tag"
   ]
  },
  {
   "cell_type": "code",
   "execution_count": 28,
   "metadata": {},
   "outputs": [
    {
     "name": "stdout",
     "output_type": "stream",
     "text": [
      "100th tokenized sentence: \"the house must have fallen on her.\n",
      "Words_toke_100th_sentence:  [('``', '``'), ('the', 'DT'), ('house', 'NN'), ('must', 'MD'), ('have', 'VB'), ('fallen', 'VBN'), ('on', 'IN'), ('her', 'PRP'), ('.', '.')]\n"
     ]
    }
   ],
   "source": [
    "import nltk\n",
    "from nltk import pos_tag # automates the part-of-speech tagging process\n",
    "from nltk.tokenize import word_tokenize # word tokenization\n",
    "from nltk.tokenize import sent_tokenize # sentence tokenization\n",
    "# import L. Frank Baum's The Wonderful Wizard of Oz\n",
    "oz_text = open(\"the_wizard_of_oz_text.txt\",encoding='utf-8').read().lower()\n",
    "\n",
    "# tokenization\n",
    "sentences_tokenized = sent_tokenize(oz_text) # sentence tokenization\n",
    "sentence_tokenized_100th = sentences_tokenized[100]\n",
    "\n",
    "print(\"100th tokenized sentence:\", sentence_tokenized_100th)\n",
    "\n",
    "\n",
    "tokenized_words_text = [] # an empty list\n",
    "\n",
    "for sentence in sentences_tokenized:\n",
    "    # tokenization of every sentence (so all words inside it)\n",
    "    word_sentence_toke = word_tokenize(sentence)\n",
    "    # POS tagging for every word from a sentence \n",
    "    words_toke_for_all_sentences = pos_tag(word_sentence_toke)\n",
    "    # list contains all tokenized words from all the sentences\n",
    "    tokenized_words_text.append(words_toke_for_all_sentences) \n",
    "\n",
    "words_toke_100th_sentence = tokenized_words_text[100]\n",
    "print(\"Words_toke_100th_sentence: \",words_toke_100th_sentence)"
   ]
  },
  {
   "cell_type": "code",
   "execution_count": null,
   "metadata": {},
   "outputs": [],
   "source": []
  }
 ],
 "metadata": {
  "kernelspec": {
   "display_name": "Python 3",
   "language": "python",
   "name": "python3"
  },
  "language_info": {
   "codemirror_mode": {
    "name": "ipython",
    "version": 3
   },
   "file_extension": ".py",
   "mimetype": "text/x-python",
   "name": "python",
   "nbconvert_exporter": "python",
   "pygments_lexer": "ipython3",
   "version": "3.6.3"
  }
 },
 "nbformat": 4,
 "nbformat_minor": 2
}
