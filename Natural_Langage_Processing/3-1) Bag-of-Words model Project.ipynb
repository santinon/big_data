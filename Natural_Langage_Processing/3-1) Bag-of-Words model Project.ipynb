{
 "cells": [
  {
   "cell_type": "markdown",
   "metadata": {},
   "source": [
    "# 3-1) Bag-of-Words model Project"
   ]
  },
  {
   "cell_type": "markdown",
   "metadata": {},
   "source": [
    "### Goal : \n",
    "\n",
    "Classify writing as related to one friend or another by building a kind of friend writing classifier.\n",
    "\n",
    "You have past writing from all three friends stored up in the variable friends_docs, which means you can use *scikit-learn’s* **bag-of-words** and **Naive Bayes classifier** to determine who the mystery friend is.\n",
    "\n",
    "Ready?"
   ]
  },
  {
   "cell_type": "code",
   "execution_count": null,
   "metadata": {},
   "outputs": [],
   "source": []
  }
 ],
 "metadata": {
  "kernelspec": {
   "display_name": "Python 3",
   "language": "python",
   "name": "python3"
  },
  "language_info": {
   "codemirror_mode": {
    "name": "ipython",
    "version": 3
   },
   "file_extension": ".py",
   "mimetype": "text/x-python",
   "name": "python",
   "nbconvert_exporter": "python",
   "pygments_lexer": "ipython3",
   "version": "3.6.3"
  }
 },
 "nbformat": 4,
 "nbformat_minor": 2
}
