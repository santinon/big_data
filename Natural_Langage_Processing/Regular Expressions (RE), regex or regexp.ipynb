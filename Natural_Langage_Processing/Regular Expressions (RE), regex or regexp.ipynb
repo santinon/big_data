{
 "cells": [
  {
   "cell_type": "markdown",
   "metadata": {},
   "source": [
    "# Regular Expressions\n",
    "    \n",
    "    have a variety of use cases including:\n",
    "\n",
    "    - validating user input in HTML forms\n",
    "    - verifying and parsing text in files, code and applications\n",
    "    - examining test results\n",
    "    - finding keywords in emails and web pages\n",
    "\n",
    "##### Regular expressions operate by moving character by character, from left to right, through a piece of text. When the regular expression finds a character that matches the first piece of the expression, it looks to find a continuous sequence of matching characters."
   ]
  },
  {
   "cell_type": "markdown",
   "metadata": {},
   "source": [
    "# 1) Literals\n",
    "\n",
    "* The regex \"a\", for example, will match the text \"a\", and the regex \"bananas\" will match the text \"bananas\".\n",
    "* The regex \"3\" will match the \"3\" in the piece of text \"34\", and the regex \"5 gibbons\" will completely match the text \"5 gibbons\"!"
   ]
  },
  {
   "cell_type": "markdown",
   "metadata": {},
   "source": [
    "# 2) Alternation\n",
    "\n",
    "* '|' symbol = OR   \n",
    "  Allows to match either the characters preceding the | OR the characters after the |.  \n",
    " >ex:  The regex \"baboons|gorillas\"   \n",
    " will match  \n",
    " \"baboons\" in the text \"I love baboons\" and  \"gorillas\" in the text \"I love gorillas\".  \n",
    " \n",
    " >ex: \"cat|dog\"  \n",
    " will match  \n",
    " \"cat\" and \"dog\""
   ]
  },
  {
   "cell_type": "markdown",
   "metadata": {},
   "source": [
    "# 3) Character Sets\n",
    "\n",
    "* Denoted by a pair of brackets \"**[ ]**\" :  \n",
    "  Let us match one character from a series of characters, allowing for matches with incorrect or different spellings\n",
    "> ex : The regex \"_con[sc]en[sc]us_\"  \n",
    "will match:  \n",
    "\"consensus\" (correct), following three incorrect spellings: \"_concensus_\", \"_consencus_\", and \"_concencus_\"\n",
    "\n",
    "> ex: regex \"_[cat]_\" will match the characters \"*c*\", \"*a*\", or \"*t*\", but not the text \"_cat_\". \n",
    "     \n",
    "\n",
    "* Carrot \"**^**\" symbol: called negated character sets  \n",
    "  Placed at the front of a character set, the \"^\" negates the set, matching any character that is not stated. \n",
    "  * Thus the regex \"[^cat]\" will match any character that is not \"c\", \"a\", or \"t\", and would completely match each character \"d\", \"o\" or \"g\"."
   ]
  },
  {
   "cell_type": "code",
   "execution_count": null,
   "metadata": {},
   "outputs": [],
   "source": []
  }
 ],
 "metadata": {
  "kernelspec": {
   "display_name": "Python 3",
   "language": "python",
   "name": "python3"
  },
  "language_info": {
   "codemirror_mode": {
    "name": "ipython",
    "version": 3
   },
   "file_extension": ".py",
   "mimetype": "text/x-python",
   "name": "python",
   "nbconvert_exporter": "python",
   "pygments_lexer": "ipython3",
   "version": "3.6.3"
  }
 },
 "nbformat": 4,
 "nbformat_minor": 2
}
