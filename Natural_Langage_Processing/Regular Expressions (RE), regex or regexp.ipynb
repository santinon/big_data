{
 "cells": [
  {
   "cell_type": "markdown",
   "metadata": {},
   "source": [
    "# Regular Expressions \"*cheat sheet*\"\n",
    "    \n",
    "    have a variety of use cases including:\n",
    "\n",
    "    - validating user input in HTML forms\n",
    "    - verifying and parsing text in files, code and applications\n",
    "    - examining test results\n",
    "    - finding keywords in emails and web pages\n",
    "\n",
    "##### Regular expressions operate by moving character by character, from left to right, through a piece of text. When the regular expression finds a character that matches the first piece of the expression, it looks to find a continuous sequence of matching characters."
   ]
  },
  {
   "cell_type": "markdown",
   "metadata": {},
   "source": [
    "# 1) Literals\n",
    "\n",
    "* The regex \"a\", for example, will match the text \"a\", and the regex \"bananas\" will match the text \"bananas\".\n",
    "* The regex \"3\" will match the \"3\" in the piece of text \"34\", and the regex \"5 gibbons\" will completely match the text \"5 gibbons\"!"
   ]
  },
  {
   "cell_type": "markdown",
   "metadata": {},
   "source": [
    "# 2) Alternation\n",
    "\n",
    "* '|' symbol = OR   \n",
    "  Allows to match either the characters preceding the | OR the characters after the |.  \n",
    " >ex:  The regex \"baboons|gorillas\"   \n",
    " will match  \n",
    " \"**baboons**\" in the text \"I love baboons\" and  \"**gorillas**\" in the text \"I love gorillas\".  \n",
    " \n",
    " >ex: \"cat|dog\"  \n",
    " will match  \n",
    " \"**cat**\" and \"**dog**\""
   ]
  },
  {
   "cell_type": "markdown",
   "metadata": {},
   "source": [
    "# 3) Character Sets\n",
    "\n",
    "* Denoted by a pair of brackets \"**[ ]**\" :  \n",
    "  Let us match one character from a series of characters, allowing for matches with incorrect or different spellings\n",
    "  \n",
    "> ex : The regex \"_con[sc]en[sc]us_\"  \n",
    "will match:  \n",
    "\"consensus\" (correct), \"_concensus_\", \"_consencus_\", and \"_concencus_\" (three incorrect spellings)\n",
    "\n",
    "> ex: regex \"_[cat]_\"  \n",
    "will match the characters:  \n",
    "\"*c*\", \"*a*\", or \"*t*\", but NOT the text \"_cat_\". \n",
    "\n",
    "> ex: regex \"**[chr]** at\"  \n",
    "will match:   \n",
    "\"cat\", \"hat\", \"rat\" \n",
    "     \n",
    "\n",
    "* Carrot \"**^**\" symbol: called *negated character sets*  \n",
    "  Placed at the front of a character set, the \"^\" negates the set, matching any character that is not stated. \n",
    ">ex: the regex \"[^cat]\"  \n",
    "will match:  \n",
    "any character that is not \"c\", \"a\", or \"t\", and would completely match each character \"d\", \"o\" or \"g\""
   ]
  },
  {
   "cell_type": "markdown",
   "metadata": {},
   "source": [
    "# 4) Wild for Wildcards\n",
    "\n",
    "They are useful when we do not care about the specific value of a character, but only that a character exists!  \n",
    "Wildcards will match any single character (letter, number, symbol or whitespace) in a piece of text\n",
    "\n",
    "* **Wildcards** = \"**.**\" (so points actuyally)\n",
    "\n",
    "> ex : Let’s say we want to match any 9-character piece of text.   \n",
    "The regex \"**.........**\" (len = 9)  will completely match:  \n",
    "\"**orangutan**\" and \"**marsupial**\" (both len = 9).    \n",
    "\n",
    "> ex:  \n",
    "Regex \"I ate **.** bananas\"  \n",
    "will completely match both:  \n",
    "\"I ate **3** bananas\" and \"I ate **8** bananas\"!\n",
    "\n",
    "* **Escape** wildcard by using \" **\\** \"\n",
    ">ex: \" .... **\\** . \"  \n",
    "will match:  \n",
    "\"*bear*\", \"*lion*\", \"*orca*\"  \n",
    "but not : \n",
    "\"*mous*e\", \"*koal*a\", \"*snai*l\" (the last character escapes)"
   ]
  },
  {
   "cell_type": "markdown",
   "metadata": {},
   "source": [
    "# 5) Ranges"
   ]
  },
  {
   "cell_type": "markdown",
   "metadata": {},
   "source": [
    "Allow us to specify a range of characters in which we can make a match without having to type out each individual character\n",
    "* **-** character allows us to specify that we are interested in matching a range of characters, we can match any:\n",
    "   * single capital letter with the regex **[A-Z]**, \n",
    "   * lowercase letter with the regex **[a-z]**, \n",
    "   * any digit with the regex **[0-9]**\n",
    "   * capital or lowercase alphabetical character, we can use the regex **[A-Za-z]**\n",
    "* with **[ ]** we only match one character.\n",
    "\n",
    "> ex: **[a-c]**  \n",
    "will match to:  \n",
    "\"**a**\", \"**b**\" or \"**c**\"\n",
    "\n",
    "> ex: The regex \"I adopted **[2-9] [b-h]** ats\"  \n",
    "will match the text:  \n",
    "\"**I adopted 4 bats**\" as well as \"**I adopted 8 cats**\" and even \"**I adopted 5 hats**\""
   ]
  },
  {
   "cell_type": "code",
   "execution_count": null,
   "metadata": {},
   "outputs": [],
   "source": []
  }
 ],
 "metadata": {
  "kernelspec": {
   "display_name": "Python 3",
   "language": "python",
   "name": "python3"
  },
  "language_info": {
   "codemirror_mode": {
    "name": "ipython",
    "version": 3
   },
   "file_extension": ".py",
   "mimetype": "text/x-python",
   "name": "python",
   "nbconvert_exporter": "python",
   "pygments_lexer": "ipython3",
   "version": "3.6.3"
  }
 },
 "nbformat": 4,
 "nbformat_minor": 2
}
