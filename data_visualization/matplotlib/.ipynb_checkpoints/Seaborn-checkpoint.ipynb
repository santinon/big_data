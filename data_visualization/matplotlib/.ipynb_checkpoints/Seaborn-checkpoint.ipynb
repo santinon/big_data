{
 "cells": [
  {
   "cell_type": "markdown",
   "metadata": {},
   "source": [
    "# SEABORN TUTORIAL (DATA VISUALIZATION)\n",
    "\n",
    "# This is a tutorial to learn how to use Seaborn in order to plot different kind of graphs with your data.\n"
   ]
  },
  {
   "cell_type": "markdown",
   "metadata": {},
   "source": [
    "# What is SEABORN? \n",
    "Seaborn is a Python data visualization library, based on Matplotlib, but \"improved\" because of:\n",
    "\n",
    "    . more visually appealing plotting style (and concise syntax)\n",
    "    . understands Pandas DataFrames, making it easier to plot data (directly from CSVs)\n",
    "    . easily summarizes Pandas DataFrames with many rows of data (into aggregated charts)\n",
    "    \n",
    "    (Pandas = important Python data-analysis library that provides easy-to-use data structures, a bit like \"Excel\", \n",
    "    that reads Excel, JSON, CSV (comma separated values) files and more)\n",
    "        -> for more infos about Pandas: a Pandas tutorial in this GitHub is provided\n",
    "        \n",
    "        \n",
    "\n",
    "Seaborn is built on top of Matplotlib, it is an extension to it not a substitute (introducing some additional plot types and provides some visual improvements to some plots and graphs) \n",
    "- > when seaborn is used, matplotlib should always be imported before seaborn"
   ]
  },
  {
   "cell_type": "markdown",
   "metadata": {},
   "source": [
    "\n",
    "# Plots seen here:\n",
    "     - 1-1 / Bars Plotting\n",
    "         1-2 / Bars Plotting with aggregates (separation of data-columns we want to take the average)\n",
    "     - "
   ]
  },
  {
   "cell_type": "markdown",
   "metadata": {},
   "source": [
    "# 1-1 / Bars Plotting"
   ]
  },
  {
   "cell_type": "code",
   "execution_count": 12,
   "metadata": {},
   "outputs": [
    {
     "name": "stdout",
     "output_type": "stream",
     "text": [
      "       Gender  Mean Satisfaction\n",
      "0        Male                7.2\n",
      "1      Female                8.1\n",
      "2  Non-binary                6.8\n"
     ]
    },
    {
     "data": {
      "image/png": "[encoded data removed]",
      "text/plain": [
       "<Figure size 432x288 with 1 Axes>"
      ]
     },
     "metadata": {
      "needs_background": "light"
     },
     "output_type": "display_data"
    }
   ],
   "source": [
    "import pandas as pd\n",
    "from matplotlib import pyplot as plt\n",
    "import seaborn as sns\n",
    "\n",
    "\n",
    "\n",
    "# results.csv loaded here:\n",
    "df = pd.read_csv('results_new.csv') # put the csv file you want to read here\n",
    "print(df)\n",
    "\n",
    "# (By default, Seaborn will aggregate and plot the mean of each category)\n",
    "sns.barplot(data=df,x='Gender',y='Mean Satisfaction') # Seaborn function \"sns.barplot()\", \n",
    "# takes at least three keyword arguments: data_used, x, y\n",
    "\n",
    "plt.show()"
   ]
  },
  {
   "cell_type": "markdown",
   "metadata": {},
   "source": [
    "# 1-2 / Bars Plotting with aggregates (here separation of wanted data-columns to take the average)"
   ]
  },
  {
   "cell_type": "raw",
   "metadata": {},
   "source": [
    "Good to know: \n",
    "aggregate functions: medians, mode, means ..."
   ]
  },
  {
   "cell_type": "code",
   "execution_count": 13,
   "metadata": {},
   "outputs": [
    {
     "name": "stdout",
     "output_type": "stream",
     "text": [
      "  student assignment_name  grade\n",
      "0     Amy    Assignment 1     76\n",
      "1     Amy    Assignment 2     83\n",
      "2     Bob    Assignment 1    100\n",
      "3     Bob    Assignment 2     73\n",
      "4   Chris    Assignment 1     67\n",
      "5   Chris    Assignment 2     87\n",
      "6     Dan    Assignment 1     83\n",
      "7     Dan    Assignment 2     92\n",
      "8   Ellie    Assignment 1     90\n",
      "9   Ellie    Assignment 2     86\n"
     ]
    },
    {
     "data": {
      "image/png": "[encoded data removed]",
      "text/plain": [
       "<Figure size 432x288 with 1 Axes>"
      ]
     },
     "metadata": {
      "needs_background": "light"
     },
     "output_type": "display_data"
    },
    {
     "data": {
      "text/plain": [
       "\" **IMPORTANT** :  Seaborn uses something called a ''bootstrapped confidence interval'' = interval meaning \\nthat “based on this data, 95% of similar situations would have an outcome within this range” = if we gave this \\nassignment to a looooot of students, we’re confident that the assignment-mean-score would be in the range \\nrepresented by the error-bar we have here = confidence-interval is a nice error-bar measurement because it is \\ndefined for different types of aggregate-functions\\n\""
      ]
     },
     "execution_count": 13,
     "metadata": {},
     "output_type": "execute_result"
    }
   ],
   "source": [
    "import pandas as pd\n",
    "from matplotlib import pyplot as plt\n",
    "import seaborn as sns\n",
    "# this two lines below are sometimes (not always...) necessary to be imported to avoid specific message-errors\n",
    "import warnings\n",
    "warnings.filterwarnings('ignore')\n",
    "\n",
    "\n",
    "gradebook = pd.read_csv(\"grades.csv\") # put the csv file you want to read here\n",
    "print(gradebook)\n",
    "\n",
    "\n",
    "# In the example below, Seaborn will aggregate grades by assignement-type , and plot the average \n",
    "# grade for each assignement-type\n",
    "\n",
    "\n",
    "# Seaborn funtion (sns.barplot()) will plot this data in a bar plot and automatically aggregate \n",
    "# ( = segregate the different things we might wanna plot)\n",
    "\n",
    "\n",
    "sns.barplot(data=gradebook, x=\"assignment_name\", y=\"grade\") # three arguments therefore : \n",
    "# data_used, x (what do we want to segregate), y (values of the things we want to segregate)\n",
    "\n",
    "plt.show()\n",
    "\n",
    "'''\n",
    "For \"sns.barplot(data=gradebook, x=\"assignment_name\", y=\"grade\")\":\n",
    "-> \"bastard examample\" to understand  (if necessary) : I have a group composed of two kind of people (x = 2) \n",
    "at the entry of a building. I want to take everything valuable they have on themself (y = objets ) \n",
    "but by separating what belongs to one group (x = first group) and to the other (x = second group) and getting the\n",
    "average of the values for each type\n",
    "'''\n",
    "\n",
    "''' **IMPORTANT** :  Seaborn uses, by default, something called a ''bootstrapped confidence interval'' = interval meaning \n",
    "that “based on this data, 95% of similar situations would have an outcome within this range” = if we gave this \n",
    "assignment to a looooot of students, we’re confident that the assignment-mean-score would be in the range \n",
    "represented by the error-bar we have here = confidence-interval is a nice error-bar measurement because it is \n",
    "defined for different types of aggregate-functions (Seaborn uses by default)\n",
    "'''\n"
   ]
  },
  {
   "cell_type": "code",
   "execution_count": null,
   "metadata": {},
   "outputs": [],
   "source": [
    "\n",
    "\n",
    "''' **IMPORTANT** :  Seaborn uses, by default, something called a ''bootstrapped confidence interval'' = interval meaning \n",
    "that “based on this data, 95% of similar situations would have an outcome within this range” = if we gave this \n",
    "assignment to a looooot of students, we’re confident that the assignment-mean-score would be in the range \n",
    "represented by the error-bar we have here = confidence-interval is a nice error-bar measurement because it is \n",
    "defined for different types of aggregate-functions (Seaborn uses by default)\n",
    "'''"
   ]
  }
 ],
 "metadata": {
  "kernelspec": {
   "display_name": "Python 3",
   "language": "python",
   "name": "python3"
  },
  "language_info": {
   "codemirror_mode": {
    "name": "ipython",
    "version": 3
   },
   "file_extension": ".py",
   "mimetype": "text/x-python",
   "name": "python",
   "nbconvert_exporter": "python",
   "pygments_lexer": "ipython3",
   "version": "3.6.3"
  }
 },
 "nbformat": 4,
 "nbformat_minor": 2
}
