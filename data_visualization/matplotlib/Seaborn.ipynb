{
 "cells": [
  {
   "cell_type": "markdown",
   "metadata": {},
   "source": [
    "# SEABORN TUTORIAL (DATA VISUALIZATION)\n",
    "# This is a tutorial to learn how to use Seaborn in order to plot different kind of graphs with your data.\n",
    "\n",
    "\n",
    "# What is SEABORN? \n",
    "Seaborn is a Python data visualization library, based on Matplotlib, but \"improved\" because of:\n",
    "\n",
    "    . more visually appealing plotting style (and concise syntax)\n",
    "    . understands Pandas DataFrames, making it easier to plot data (directly from CSVs)\n",
    "    . easily summarizes Pandas DataFrames with many rows of data (into aggregated charts)\n",
    "    (Pandas = important Python data-analysis library that provides easy-to-use data structures, a bit like \"Excel\")"
   ]
  },
  {
   "cell_type": "code",
   "execution_count": null,
   "metadata": {},
   "outputs": [],
   "source": []
  }
 ],
 "metadata": {
  "kernelspec": {
   "display_name": "Python 3",
   "language": "python",
   "name": "python3"
  },
  "language_info": {
   "codemirror_mode": {
    "name": "ipython",
    "version": 3
   },
   "file_extension": ".py",
   "mimetype": "text/x-python",
   "name": "python",
   "nbconvert_exporter": "python",
   "pygments_lexer": "ipython3",
   "version": "3.6.3"
  }
 },
 "nbformat": 4,
 "nbformat_minor": 2
}
